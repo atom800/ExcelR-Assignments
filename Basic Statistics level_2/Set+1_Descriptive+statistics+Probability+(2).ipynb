{
 "cells": [
  {
   "cell_type": "markdown",
   "id": "f0d6d14a",
   "metadata": {},
   "source": [
    "Q1) Look at the data given below. Plot the data, find the outliers and find out  μ, σ, σ^2"
   ]
  },
  {
   "cell_type": "code",
   "execution_count": 2,
   "id": "10989ba6",
   "metadata": {},
   "outputs": [],
   "source": [
    "import pandas as pd\n",
    "import matplotlib.pyplot as plt"
   ]
  },
  {
   "cell_type": "code",
   "execution_count": 3,
   "id": "f07c92c4",
   "metadata": {},
   "outputs": [],
   "source": [
    "plt.rcParams[\"figure.figsize\"] = (7,5)"
   ]
  },
  {
   "cell_type": "code",
   "execution_count": 12,
   "id": "74ea099c",
   "metadata": {},
   "outputs": [],
   "source": [
    "data = {\"Name of company\":[\"Allied Signal\",\"Bankers Trust\",\"General Mills\",\"ITT Industries\",\"J.P.Morgan & Co.\",\n",
    "                           \"Lehman Brothers\",\"Marriott\",\"MCI\",\"Merrill Lynch\",\"Microsoft\",\"Morgan Stanley\",\n",
    "                           \"Sun Microsystems\",\"Travelers\",\"US Airways\",\"Warner-Lambert\"],\n",
    "        \"Measures X\":[24.23,25.53,25.41,24.14,29.62,28.25,25.81,24.39,40.26,32.95,91.36,25.99,39.42,26.71,35.00]\n",
    "       }"
   ]
  },
  {
   "cell_type": "code",
   "execution_count": 13,
   "id": "01385e1c",
   "metadata": {},
   "outputs": [],
   "source": [
    "df = pd.DataFrame(data = data)"
   ]
  },
  {
   "cell_type": "code",
   "execution_count": 14,
   "id": "aa99c6c9",
   "metadata": {},
   "outputs": [
    {
     "data": {
      "text/html": [
       "<div>\n",
       "<style scoped>\n",
       "    .dataframe tbody tr th:only-of-type {\n",
       "        vertical-align: middle;\n",
       "    }\n",
       "\n",
       "    .dataframe tbody tr th {\n",
       "        vertical-align: top;\n",
       "    }\n",
       "\n",
       "    .dataframe thead th {\n",
       "        text-align: right;\n",
       "    }\n",
       "</style>\n",
       "<table border=\"1\" class=\"dataframe\">\n",
       "  <thead>\n",
       "    <tr style=\"text-align: right;\">\n",
       "      <th></th>\n",
       "      <th>Name of company</th>\n",
       "      <th>Measures X</th>\n",
       "    </tr>\n",
       "  </thead>\n",
       "  <tbody>\n",
       "    <tr>\n",
       "      <th>0</th>\n",
       "      <td>Allied Signal</td>\n",
       "      <td>24.23</td>\n",
       "    </tr>\n",
       "    <tr>\n",
       "      <th>1</th>\n",
       "      <td>Bankers Trust</td>\n",
       "      <td>25.53</td>\n",
       "    </tr>\n",
       "    <tr>\n",
       "      <th>2</th>\n",
       "      <td>General Mills</td>\n",
       "      <td>25.41</td>\n",
       "    </tr>\n",
       "    <tr>\n",
       "      <th>3</th>\n",
       "      <td>ITT Industries</td>\n",
       "      <td>24.14</td>\n",
       "    </tr>\n",
       "    <tr>\n",
       "      <th>4</th>\n",
       "      <td>J.P.Morgan &amp; Co.</td>\n",
       "      <td>29.62</td>\n",
       "    </tr>\n",
       "  </tbody>\n",
       "</table>\n",
       "</div>"
      ],
      "text/plain": [
       "    Name of company  Measures X\n",
       "0     Allied Signal       24.23\n",
       "1     Bankers Trust       25.53\n",
       "2     General Mills       25.41\n",
       "3    ITT Industries       24.14\n",
       "4  J.P.Morgan & Co.       29.62"
      ]
     },
     "execution_count": 14,
     "metadata": {},
     "output_type": "execute_result"
    }
   ],
   "source": [
    "df.head()"
   ]
  },
  {
   "cell_type": "code",
   "execution_count": 15,
   "id": "71515b65",
   "metadata": {},
   "outputs": [
    {
     "data": {
      "text/plain": [
       "{'whiskers': [<matplotlib.lines.Line2D at 0x1e4e8967760>,\n",
       "  <matplotlib.lines.Line2D at 0x1e4e8967a30>],\n",
       " 'caps': [<matplotlib.lines.Line2D at 0x1e4e8967dc0>,\n",
       "  <matplotlib.lines.Line2D at 0x1e4e8967fd0>],\n",
       " 'boxes': [<matplotlib.lines.Line2D at 0x1e4e8967490>],\n",
       " 'medians': [<matplotlib.lines.Line2D at 0x1e4e897c2e0>],\n",
       " 'fliers': [<matplotlib.lines.Line2D at 0x1e4e897c5b0>],\n",
       " 'means': []}"
      ]
     },
     "execution_count": 15,
     "metadata": {},
     "output_type": "execute_result"
    },
    {
     "data": {
      "image/png": "[encoded data removed]",
      "text/plain": [
       "<Figure size 504x360 with 1 Axes>"
      ]
     },
     "metadata": {
      "needs_background": "light"
     },
     "output_type": "display_data"
    }
   ],
   "source": [
    "plt.boxplot(df[\"Measures X\"])"
   ]
  },
  {
   "cell_type": "code",
   "execution_count": 16,
   "id": "4430b18f",
   "metadata": {},
   "outputs": [],
   "source": [
    "def find_outliers(data, column):\n",
    "    q1 = data[column].quantile(0.25)\n",
    "    q3 = data[column].quantile(0.75)\n",
    "    \n",
    "    iqr = q3 - q1\n",
    "    upper = q3 + (1.5 * iqr)\n",
    "    lower = q1 - (1.5 * iqr)\n",
    "    \n",
    "    return upper,lower"
   ]
  },
  {
   "cell_type": "code",
   "execution_count": 17,
   "id": "0f87db7b",
   "metadata": {},
   "outputs": [
    {
     "data": {
      "text/plain": [
       "(46.7325, 12.712499999999995)"
      ]
     },
     "execution_count": 17,
     "metadata": {},
     "output_type": "execute_result"
    }
   ],
   "source": [
    "find_outliers(df,\"Measures X\")"
   ]
  },
  {
   "cell_type": "code",
   "execution_count": 18,
   "id": "b31dae31",
   "metadata": {},
   "outputs": [
    {
     "data": {
      "text/html": [
       "<div>\n",
       "<style scoped>\n",
       "    .dataframe tbody tr th:only-of-type {\n",
       "        vertical-align: middle;\n",
       "    }\n",
       "\n",
       "    .dataframe tbody tr th {\n",
       "        vertical-align: top;\n",
       "    }\n",
       "\n",
       "    .dataframe thead th {\n",
       "        text-align: right;\n",
       "    }\n",
       "</style>\n",
       "<table border=\"1\" class=\"dataframe\">\n",
       "  <thead>\n",
       "    <tr style=\"text-align: right;\">\n",
       "      <th></th>\n",
       "      <th>Name of company</th>\n",
       "      <th>Measures X</th>\n",
       "    </tr>\n",
       "  </thead>\n",
       "  <tbody>\n",
       "    <tr>\n",
       "      <th>10</th>\n",
       "      <td>Morgan Stanley</td>\n",
       "      <td>91.36</td>\n",
       "    </tr>\n",
       "  </tbody>\n",
       "</table>\n",
       "</div>"
      ],
      "text/plain": [
       "   Name of company  Measures X\n",
       "10  Morgan Stanley       91.36"
      ]
     },
     "execution_count": 18,
     "metadata": {},
     "output_type": "execute_result"
    }
   ],
   "source": [
    "# This data point is outlier\n",
    "\n",
    "df[df[\"Measures X\"] > 46.7325]    "
   ]
  },
  {
   "cell_type": "code",
   "execution_count": 19,
   "id": "92f4191d",
   "metadata": {},
   "outputs": [
    {
     "data": {
      "text/plain": [
       "33.27133333333333"
      ]
     },
     "execution_count": 19,
     "metadata": {},
     "output_type": "execute_result"
    }
   ],
   "source": [
    "# Mean\n",
    "\n",
    "df[\"Measures X\"].mean()"
   ]
  },
  {
   "cell_type": "code",
   "execution_count": 20,
   "id": "7cf8c634",
   "metadata": {},
   "outputs": [
    {
     "data": {
      "text/plain": [
       "287.1466123809524"
      ]
     },
     "execution_count": 20,
     "metadata": {},
     "output_type": "execute_result"
    }
   ],
   "source": [
    "# Variance\n",
    "\n",
    "df[\"Measures X\"].var()"
   ]
  },
  {
   "cell_type": "code",
   "execution_count": 22,
   "id": "2f5d98c1",
   "metadata": {},
   "outputs": [
    {
     "data": {
      "text/plain": [
       "16.945400921222028"
      ]
     },
     "execution_count": 22,
     "metadata": {},
     "output_type": "execute_result"
    }
   ],
   "source": [
    "# standard deviation\n",
    "\n",
    "df[\"Measures X\"].std()"
   ]
  },
  {
   "cell_type": "code",
   "execution_count": null,
   "id": "dcbd25d1",
   "metadata": {},
   "outputs": [],
   "source": []
  }
 ],
 "metadata": {
  "kernelspec": {
   "display_name": "Python 3 (ipykernel)",
   "language": "python",
   "name": "python3"
  },
  "language_info": {
   "codemirror_mode": {
    "name": "ipython",
    "version": 3
   },
   "file_extension": ".py",
   "mimetype": "text/x-python",
   "name": "python",
   "nbconvert_exporter": "python",
   "pygments_lexer": "ipython3",
   "version": "3.9.12"
  }
 },
 "nbformat": 4,
 "nbformat_minor": 5
}
